{
  "nbformat": 4,
  "nbformat_minor": 0,
  "metadata": {
    "colab": {
      "provenance": []
    },
    "kernelspec": {
      "name": "python3",
      "display_name": "Python 3"
    },
    "language_info": {
      "name": "python"
    }
  },
  "cells": [
    {
      "cell_type": "code",
      "execution_count": null,
      "metadata": {
        "colab": {
          "base_uri": "https://localhost:8080/"
        },
        "id": "PKGjmNRwo_Jw",
        "outputId": "e8c00c2e-32cc-47c6-d9a4-58a76529f0ae"
      },
      "outputs": [
        {
          "output_type": "stream",
          "name": "stdout",
          "text": [
            "Hello ,World!\n",
            "Enter your name: \n",
            "numan\n",
            "Hello numan ! Welcome to Python Programming\n"
          ]
        }
      ],
      "source": [
        "print(\"Hello ,World!\")\n",
        "print(\"Enter your name: \")\n",
        "\n",
        "name=input()\n",
        "\n",
        "print(\"Hello \" + name + \" ! Welcome to Python Programming\")"
      ]
    },
    {
      "cell_type": "code",
      "source": [
        "stars=4\n",
        "for i in range(stars):\n",
        "    for j in range(i + 1):\n",
        "        print(\"*\", end=\" \")\n",
        "    print()\n"
      ],
      "metadata": {
        "colab": {
          "base_uri": "https://localhost:8080/"
        },
        "id": "49i589y6qlAl",
        "outputId": "9beeb518-07be-4a43-f3d1-2d896ff2dbea"
      },
      "execution_count": null,
      "outputs": [
        {
          "output_type": "stream",
          "name": "stdout",
          "text": [
            "* \n",
            "* * \n",
            "* * * \n",
            "* * * * \n"
          ]
        }
      ]
    },
    {
      "cell_type": "code",
      "source": [],
      "metadata": {
        "id": "hPYznE_luL9I"
      },
      "execution_count": null,
      "outputs": []
    },
    {
      "cell_type": "code",
      "source": [
        "print(\"Enter the number to find factorial : \")\n",
        "number=input()\n",
        "number=int(number)\n",
        "fact=1\n",
        "negative=0\n",
        "if number > 1:\n",
        " while number > 1:\n",
        "  fact=fact*number\n",
        "  number=number-1\n",
        " print(\"Factorial of the number is : \" , fact)\n",
        "elif number == 0 or number==1:\n",
        " print(\"Factorial of the number is : 1\")\n",
        "else:\n",
        "  print(\"Invalid input\")"
      ],
      "metadata": {
        "colab": {
          "base_uri": "https://localhost:8080/"
        },
        "id": "BbHMIdjTrygo",
        "outputId": "9fdfab42-47da-4f3f-8a3f-c114b3be7d3a"
      },
      "execution_count": null,
      "outputs": [
        {
          "output_type": "stream",
          "name": "stdout",
          "text": [
            "Enter the number to find factorial : \n",
            "0\n",
            "Factorial of the number is : 1\n"
          ]
        }
      ]
    },
    {
      "cell_type": "code",
      "source": [
        "# Example usage\n",
        "num = int(input(\"Enter a number: \"))\n",
        "\n",
        "if num <= 1:  # If number is 1 or less than 1, it's not prime\n",
        " print(num , \" is NOT a prime number ❌\")\n",
        "else:\n",
        " for i in range(2, num):\n",
        "        if num % i == 0:   # If divisible, it's not prime\n",
        "           print(num , \" is NOT a prime number ❌\")\n",
        "           break\n",
        "        else:\n",
        "            print(num , \" is a PRIME number ✅\")\n",
        ""
      ],
      "metadata": {
        "colab": {
          "base_uri": "https://localhost:8080/"
        },
        "id": "AnO3GW9wwk-t",
        "outputId": "6df3cbbf-7e9f-4430-9a18-6b79e1736144"
      },
      "execution_count": 7,
      "outputs": [
        {
          "output_type": "stream",
          "name": "stdout",
          "text": [
            "Enter a number: 488\n",
            "488  is NOT a prime number ❌\n"
          ]
        }
      ]
    },
    {
      "cell_type": "code",
      "source": [
        "# Create a list of integers (with duplicates)\n",
        "numbers = [7, 3, 5, 3, 9, 7, 1, 5, 2, 9, 4]\n",
        "\n",
        "print(\"Original List:\", numbers)\n",
        "# Step 1: Remove duplicates\n",
        "uniqueNumbers = []   # new list\n",
        "for i in range(len(numbers)):\n",
        "    found = False\n",
        "    # check if numbers[i] already exists in unique\n",
        "    for j in range(len(uniqueNumbers)):\n",
        "        if numbers[i] == uniqueNumbers[j]:\n",
        "            found = True\n",
        "            break\n",
        "    if not found:\n",
        "        uniqueNumbers.append(numbers[i])\n",
        "\n",
        "print(\"After Removing Duplicates:\", uniqueNumbers)\n",
        "\n",
        "# -----------------------------\n",
        "# Step 2: Sort (Ascending) using Bubble Sort\n",
        "# -----------------------------\n",
        "n = len(uniqueNumbers)\n",
        "for i in range(n):\n",
        "    for j in range(0, n - i - 1):\n",
        "        if uniqueNumbers[j] > uniqueNumbers[j + 1]:\n",
        "            # swap\n",
        "            temp = uniqueNumbers[j]\n",
        "            uniqueNumbers[j] = uniqueNumbers[j + 1]\n",
        "            uniqueNumbers[j + 1] = temp\n",
        "\n",
        "print(\"Sorted List (Ascending):\", uniqueNumbers)\n"
      ],
      "metadata": {
        "colab": {
          "base_uri": "https://localhost:8080/"
        },
        "id": "d24ErlNTyn0y",
        "outputId": "d33bccaa-5852-47ba-952d-0b8d34a8fa1c"
      },
      "execution_count": 8,
      "outputs": [
        {
          "output_type": "stream",
          "name": "stdout",
          "text": [
            "Original List: [7, 3, 5, 3, 9, 7, 1, 5, 2, 9, 4]\n",
            "After Removing Duplicates: [7, 3, 5, 9, 1, 2, 4]\n",
            "Sorted List (Ascending): [1, 2, 3, 4, 5, 7, 9]\n"
          ]
        }
      ]
    },
    {
      "cell_type": "code",
      "source": [
        "# Take input from user\n",
        "text = input(\"Enter a string: \")\n",
        "\n",
        "# Convert to lowercase and remove spaces\n",
        "cleaned_text = \"\"\n",
        "for ch in text.lower():\n",
        "    if ch != \" \":\n",
        "        cleaned_text += ch\n",
        "\n",
        "# Check palindrome by comparing with reverse using slicing\n",
        "if cleaned_text == cleaned_text[::-1]:\n",
        "    print(\"✅ The string is a palindrome.\")\n",
        "else:\n",
        "    print(\"❌ The string is not a palindrome.\")\n"
      ],
      "metadata": {
        "colab": {
          "base_uri": "https://localhost:8080/"
        },
        "id": "4cAULtJt0ihx",
        "outputId": "3ad5977b-cf94-4470-f0d8-4fa81eb4583f"
      },
      "execution_count": 10,
      "outputs": [
        {
          "output_type": "stream",
          "name": "stdout",
          "text": [
            "Enter a string: seed\n",
            "❌ The string is not a palindrome.\n"
          ]
        }
      ]
    },
    {
      "cell_type": "code",
      "source": [],
      "metadata": {
        "id": "3b8Rjax92d8O"
      },
      "execution_count": null,
      "outputs": []
    },
    {
      "cell_type": "code",
      "source": [
        "# -----------------------------\n",
        "# Step 1: Taking all inputs from user\n",
        "# -----------------------------\n",
        "\n",
        "name=input(\"Enter your name: \")\n",
        "roll_number=input(\"Enter your roll number: \")\n",
        "cgpa=input(\"Enter your CGPA: \")\n",
        "semester=input(\"Enter your current semester: \")\n",
        "program=input(\"Enter your program: \")\n",
        "university=input(\"Enter your university: \")\n",
        "\n",
        "# -----------------------------\n",
        "# Step 2: Making a file and Saving the details\n",
        "# -----------------------------\n",
        "with open(\"my-details.txt\", \"w\") as file:\n",
        "    file.write(\"Roll Number: \" + roll_number +  \"\\n\")\n",
        "    file.write(\"Name: \" + name +  \"\\n\")\n",
        "    file.write(\"CGPA: \" + cgpa +  \"\\n\")\n",
        "    file.write(\"Current Semester:\" + semester +  \"\\n\")\n",
        "    file.write(\"Program: \" + program +  \"\\n\")\n",
        "    file.write(\"University:\" + university +  \"\\n\")\n",
        "\n",
        "print(\"✅ File 'my-details.txt' has been created and details written successfully!\")\n"
      ],
      "metadata": {
        "colab": {
          "base_uri": "https://localhost:8080/"
        },
        "id": "OU6f6Kh42SoO",
        "outputId": "87806d6d-1b88-4e49-c9c4-bb99c3fcf972"
      },
      "execution_count": 11,
      "outputs": [
        {
          "output_type": "stream",
          "name": "stdout",
          "text": [
            "Enter your name: numan\n",
            "Enter your roll number: fa22-bcs-033\n",
            "Enter your CGPA: 3.76\n",
            "Enter your current semester: 7thA\n",
            "Enter your program: BSCS\n",
            "Enter your university: Islamabad\n",
            "✅ File 'my-details.txt' has been created and details written successfully!\n"
          ]
        }
      ]
    }
  ]
}